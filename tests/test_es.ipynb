{
 "cells": [
  {
   "cell_type": "markdown",
   "id": "274cc13a-ce70-40e9-872a-006767b3b710",
   "metadata": {},
   "source": [
    "# Módulo de entrada e saída de dados (es)\n",
    "\n",
    "O módulo proverá uma função para leitura da API do BACENe para produção dos gráficos."
   ]
  },
  {
   "cell_type": "code",
   "execution_count": 1,
   "id": "9a877d53-dfc7-4766-a11e-8b5d827961c4",
   "metadata": {},
   "outputs": [],
   "source": [
    "# Função para consumo da API do BACEN\n",
    "\n",
    "import numpy as np\n",
    "import pandas as pd\n",
    "\n",
    "def leitor_dados(arquivo: str) -> pd.DataFrame:\n",
    "    pass"
   ]
  },
  {
   "cell_type": "code",
   "execution_count": 2,
   "id": "bb5c6a6e-24e6-4b31-bdaf-f652cabaa037",
   "metadata": {},
   "outputs": [],
   "source": [
    "dados = pd.read_csv(\"https://dados.tce.rs.gov.br/dados/municipal/balancete-despesa/2023.csv\")"
   ]
  },
  {
   "cell_type": "code",
   "execution_count": 3,
   "id": "c3cf3340-14c8-490b-abb9-6b20fd2bdd9f",
   "metadata": {},
   "outputs": [
    {
     "data": {
      "text/html": [
       "<div>\n",
       "<style scoped>\n",
       "    .dataframe tbody tr th:only-of-type {\n",
       "        vertical-align: middle;\n",
       "    }\n",
       "\n",
       "    .dataframe tbody tr th {\n",
       "        vertical-align: top;\n",
       "    }\n",
       "\n",
       "    .dataframe thead th {\n",
       "        text-align: right;\n",
       "    }\n",
       "</style>\n",
       "<table border=\"1\" class=\"dataframe\">\n",
       "  <thead>\n",
       "    <tr style=\"text-align: right;\">\n",
       "      <th></th>\n",
       "      <th>ANO</th>\n",
       "      <th>MES</th>\n",
       "      <th>COD_MUNICIPIO</th>\n",
       "      <th>NOME_MUNICIPIO</th>\n",
       "      <th>CD_ORGAO</th>\n",
       "      <th>NOME_ORGAO</th>\n",
       "      <th>CD_RECEBIMENTO</th>\n",
       "      <th>CD_ORGAO_ORCAMENTARIO</th>\n",
       "      <th>NOME_ORGAO_ORCAMENTARIO</th>\n",
       "      <th>CD_UNIDADE_ORCAMENTARIA</th>\n",
       "      <th>...</th>\n",
       "      <th>VL_REDUCAO_RECURSO</th>\n",
       "      <th>VL_TRANSFERENCIA</th>\n",
       "      <th>VL_TRANSPOSICAO</th>\n",
       "      <th>VL_REMANEJAMENTO</th>\n",
       "      <th>VL_EMPENHADO</th>\n",
       "      <th>VL_LIQUIDADO</th>\n",
       "      <th>VL_PAGO</th>\n",
       "      <th>VL_LIMITADO</th>\n",
       "      <th>VL_RECOMPOSICAO</th>\n",
       "      <th>VL_PREVISAO_EXECUCAO</th>\n",
       "    </tr>\n",
       "  </thead>\n",
       "  <tbody>\n",
       "    <tr>\n",
       "      <th>0</th>\n",
       "      <td>2023</td>\n",
       "      <td>1</td>\n",
       "      <td>149</td>\n",
       "      <td>PORTO ALEGRE</td>\n",
       "      <td>88399</td>\n",
       "      <td>AGESAN - AGÊNCIA REGULADORA INTERMUNICIPAL DE ...</td>\n",
       "      <td>306703</td>\n",
       "      <td>1</td>\n",
       "      <td>AGESAN-RS</td>\n",
       "      <td>1</td>\n",
       "      <td>...</td>\n",
       "      <td>0.0</td>\n",
       "      <td>0.0</td>\n",
       "      <td>0.0</td>\n",
       "      <td>0.0</td>\n",
       "      <td>1291047.08</td>\n",
       "      <td>99401.81</td>\n",
       "      <td>99401.81</td>\n",
       "      <td>0.0</td>\n",
       "      <td>0.0</td>\n",
       "      <td>0.0</td>\n",
       "    </tr>\n",
       "    <tr>\n",
       "      <th>1</th>\n",
       "      <td>2023</td>\n",
       "      <td>1</td>\n",
       "      <td>149</td>\n",
       "      <td>PORTO ALEGRE</td>\n",
       "      <td>88399</td>\n",
       "      <td>AGESAN - AGÊNCIA REGULADORA INTERMUNICIPAL DE ...</td>\n",
       "      <td>306703</td>\n",
       "      <td>1</td>\n",
       "      <td>AGESAN-RS</td>\n",
       "      <td>1</td>\n",
       "      <td>...</td>\n",
       "      <td>0.0</td>\n",
       "      <td>0.0</td>\n",
       "      <td>0.0</td>\n",
       "      <td>0.0</td>\n",
       "      <td>251900.00</td>\n",
       "      <td>30456.87</td>\n",
       "      <td>0.00</td>\n",
       "      <td>0.0</td>\n",
       "      <td>0.0</td>\n",
       "      <td>0.0</td>\n",
       "    </tr>\n",
       "    <tr>\n",
       "      <th>2</th>\n",
       "      <td>2023</td>\n",
       "      <td>1</td>\n",
       "      <td>149</td>\n",
       "      <td>PORTO ALEGRE</td>\n",
       "      <td>88399</td>\n",
       "      <td>AGESAN - AGÊNCIA REGULADORA INTERMUNICIPAL DE ...</td>\n",
       "      <td>306703</td>\n",
       "      <td>1</td>\n",
       "      <td>AGESAN-RS</td>\n",
       "      <td>1</td>\n",
       "      <td>...</td>\n",
       "      <td>0.0</td>\n",
       "      <td>0.0</td>\n",
       "      <td>0.0</td>\n",
       "      <td>0.0</td>\n",
       "      <td>0.00</td>\n",
       "      <td>0.00</td>\n",
       "      <td>0.00</td>\n",
       "      <td>0.0</td>\n",
       "      <td>0.0</td>\n",
       "      <td>0.0</td>\n",
       "    </tr>\n",
       "    <tr>\n",
       "      <th>3</th>\n",
       "      <td>2023</td>\n",
       "      <td>1</td>\n",
       "      <td>149</td>\n",
       "      <td>PORTO ALEGRE</td>\n",
       "      <td>88399</td>\n",
       "      <td>AGESAN - AGÊNCIA REGULADORA INTERMUNICIPAL DE ...</td>\n",
       "      <td>306703</td>\n",
       "      <td>1</td>\n",
       "      <td>AGESAN-RS</td>\n",
       "      <td>1</td>\n",
       "      <td>...</td>\n",
       "      <td>0.0</td>\n",
       "      <td>0.0</td>\n",
       "      <td>0.0</td>\n",
       "      <td>0.0</td>\n",
       "      <td>6206.47</td>\n",
       "      <td>6206.47</td>\n",
       "      <td>6206.47</td>\n",
       "      <td>0.0</td>\n",
       "      <td>0.0</td>\n",
       "      <td>0.0</td>\n",
       "    </tr>\n",
       "  </tbody>\n",
       "</table>\n",
       "<p>4 rows × 41 columns</p>\n",
       "</div>"
      ],
      "text/plain": [
       "    ANO  MES  COD_MUNICIPIO NOME_MUNICIPIO  CD_ORGAO  \\\n",
       "0  2023    1            149   PORTO ALEGRE     88399   \n",
       "1  2023    1            149   PORTO ALEGRE     88399   \n",
       "2  2023    1            149   PORTO ALEGRE     88399   \n",
       "3  2023    1            149   PORTO ALEGRE     88399   \n",
       "\n",
       "                                          NOME_ORGAO  CD_RECEBIMENTO  \\\n",
       "0  AGESAN - AGÊNCIA REGULADORA INTERMUNICIPAL DE ...          306703   \n",
       "1  AGESAN - AGÊNCIA REGULADORA INTERMUNICIPAL DE ...          306703   \n",
       "2  AGESAN - AGÊNCIA REGULADORA INTERMUNICIPAL DE ...          306703   \n",
       "3  AGESAN - AGÊNCIA REGULADORA INTERMUNICIPAL DE ...          306703   \n",
       "\n",
       "   CD_ORGAO_ORCAMENTARIO NOME_ORGAO_ORCAMENTARIO  CD_UNIDADE_ORCAMENTARIA  \\\n",
       "0                      1               AGESAN-RS                        1   \n",
       "1                      1               AGESAN-RS                        1   \n",
       "2                      1               AGESAN-RS                        1   \n",
       "3                      1               AGESAN-RS                        1   \n",
       "\n",
       "   ... VL_REDUCAO_RECURSO VL_TRANSFERENCIA  VL_TRANSPOSICAO VL_REMANEJAMENTO  \\\n",
       "0  ...                0.0              0.0              0.0              0.0   \n",
       "1  ...                0.0              0.0              0.0              0.0   \n",
       "2  ...                0.0              0.0              0.0              0.0   \n",
       "3  ...                0.0              0.0              0.0              0.0   \n",
       "\n",
       "   VL_EMPENHADO VL_LIQUIDADO   VL_PAGO VL_LIMITADO  VL_RECOMPOSICAO  \\\n",
       "0    1291047.08     99401.81  99401.81         0.0              0.0   \n",
       "1     251900.00     30456.87      0.00         0.0              0.0   \n",
       "2          0.00         0.00      0.00         0.0              0.0   \n",
       "3       6206.47      6206.47   6206.47         0.0              0.0   \n",
       "\n",
       "  VL_PREVISAO_EXECUCAO  \n",
       "0                  0.0  \n",
       "1                  0.0  \n",
       "2                  0.0  \n",
       "3                  0.0  \n",
       "\n",
       "[4 rows x 41 columns]"
      ]
     },
     "execution_count": 3,
     "metadata": {},
     "output_type": "execute_result"
    }
   ],
   "source": [
    "dados.head(4)"
   ]
  },
  {
   "cell_type": "code",
   "execution_count": 4,
   "id": "0a76c0e4-d925-45c5-96b5-a01a8db06b03",
   "metadata": {},
   "outputs": [
    {
     "data": {
      "text/plain": [
       "pandas.core.frame.DataFrame"
      ]
     },
     "execution_count": 4,
     "metadata": {},
     "output_type": "execute_result"
    }
   ],
   "source": [
    "type(dados)"
   ]
  },
  {
   "cell_type": "code",
   "execution_count": 5,
   "id": "4eef7e51-d22f-4fd1-8aee-61e68d911e85",
   "metadata": {},
   "outputs": [
    {
     "data": {
      "text/plain": [
       "0         2023\n",
       "1         2023\n",
       "2         2023\n",
       "3         2023\n",
       "4         2023\n",
       "          ... \n",
       "427623    2023\n",
       "427624    2023\n",
       "427625    2023\n",
       "427626    2023\n",
       "427627    2023\n",
       "Name: ANO, Length: 427628, dtype: int64"
      ]
     },
     "execution_count": 5,
     "metadata": {},
     "output_type": "execute_result"
    }
   ],
   "source": [
    "dados[\"ANO\"]"
   ]
  },
  {
   "cell_type": "code",
   "execution_count": 6,
   "id": "a8247693-4938-4ef2-8320-877b700918ac",
   "metadata": {},
   "outputs": [
    {
     "data": {
      "text/plain": [
       "0    2023\n",
       "1    2023\n",
       "2    2023\n",
       "3    2023\n",
       "Name: ANO, dtype: int64"
      ]
     },
     "execution_count": 6,
     "metadata": {},
     "output_type": "execute_result"
    }
   ],
   "source": [
    "ANO = dados[\"ANO\"]\n",
    "ANO.head(4)"
   ]
  },
  {
   "cell_type": "code",
   "execution_count": 7,
   "id": "f2c75ad0-e99b-4d66-8153-9302a6a48041",
   "metadata": {},
   "outputs": [
    {
     "data": {
      "text/plain": [
       "pandas.core.series.Series"
      ]
     },
     "execution_count": 7,
     "metadata": {},
     "output_type": "execute_result"
    }
   ],
   "source": [
    "type(ANO)"
   ]
  },
  {
   "cell_type": "code",
   "execution_count": 8,
   "id": "8653dec5-ec37-4024-8dbc-ac767d6ff2b5",
   "metadata": {},
   "outputs": [],
   "source": [
    "# Função para consumo da API do BACEN\n",
    "\n",
    "import numpy as np\n",
    "import pandas as pd\n",
    "\n",
    "def leitor_dados(arquivo: str) -> pd.DataFrame:\n",
    "    return pd.read_csv(arquivo)\n",
    "    pass"
   ]
  },
  {
   "cell_type": "code",
   "execution_count": 9,
   "id": "1a619cac-a4dd-4655-a73e-9a70afbd5957",
   "metadata": {},
   "outputs": [],
   "source": [
    "url = \"https://dados.tce.rs.gov.br/dados/municipal/balancete-despesa/2023.csv\"\n",
    "dados = leitor_dados(url)"
   ]
  },
  {
   "cell_type": "code",
   "execution_count": 10,
   "id": "ed30f678-6a9b-45a8-97ef-61f0879c9ea2",
   "metadata": {},
   "outputs": [
    {
     "data": {
      "text/plain": [
       "ANO                              int64\n",
       "MES                              int64\n",
       "COD_MUNICIPIO                    int64\n",
       "NOME_MUNICIPIO                  object\n",
       "CD_ORGAO                         int64\n",
       "NOME_ORGAO                      object\n",
       "CD_RECEBIMENTO                   int64\n",
       "CD_ORGAO_ORCAMENTARIO            int64\n",
       "NOME_ORGAO_ORCAMENTARIO         object\n",
       "CD_UNIDADE_ORCAMENTARIA          int64\n",
       "NOME_UNIDADE                    object\n",
       "TP_UNIDADE                      object\n",
       "CD_FUNCAO                        int64\n",
       "DS_FUNCAO                       object\n",
       "CD_SUBFUNCAO                     int64\n",
       "DS_SUBFUNCAO                    object\n",
       "CD_PROGRAMA                      int64\n",
       "DS_PROGRAMA                     object\n",
       "CD_PROJETO                       int64\n",
       "NM_PROJETO                      object\n",
       "CD_ELEMENTO                     object\n",
       "CD_RECURSO                     float64\n",
       "NM_RECURSO                     float64\n",
       "CD_FONTE_RECURSO                 int64\n",
       "VL_DOTACAO_INICIAL             float64\n",
       "VL_ATUALIZACAO_MONETARIA       float64\n",
       "VL_CREDITOS_SUPLEMENTARES      float64\n",
       "VL_CREDITOS_ESPECIAIS          float64\n",
       "VL_CREDITOS_EXTRAORDINARIOS    float64\n",
       "VL_REDUCAO_DOTACAO             float64\n",
       "VL_SUPLEMENTACAO_RECURSO       float64\n",
       "VL_REDUCAO_RECURSO             float64\n",
       "VL_TRANSFERENCIA               float64\n",
       "VL_TRANSPOSICAO                float64\n",
       "VL_REMANEJAMENTO               float64\n",
       "VL_EMPENHADO                   float64\n",
       "VL_LIQUIDADO                   float64\n",
       "VL_PAGO                        float64\n",
       "VL_LIMITADO                    float64\n",
       "VL_RECOMPOSICAO                float64\n",
       "VL_PREVISAO_EXECUCAO           float64\n",
       "dtype: object"
      ]
     },
     "execution_count": 10,
     "metadata": {},
     "output_type": "execute_result"
    }
   ],
   "source": [
    "dados.dtypes"
   ]
  },
  {
   "cell_type": "code",
   "execution_count": 12,
   "id": "785923c3-bd2d-4ac3-9fdb-ee87d291ae36",
   "metadata": {},
   "outputs": [],
   "source": [
    "dados.to_excel(\"dadosprojeto8.xlsx\", sheet_name = \"dados\", index = False)"
   ]
  },
  {
   "cell_type": "code",
   "execution_count": 13,
   "id": "0c30da6a-d449-4077-b97a-3fffbec88eae",
   "metadata": {},
   "outputs": [
    {
     "name": "stdout",
     "output_type": "stream",
     "text": [
      "<class 'pandas.core.frame.DataFrame'>\n",
      "RangeIndex: 427628 entries, 0 to 427627\n",
      "Data columns (total 41 columns):\n",
      " #   Column                       Non-Null Count   Dtype  \n",
      "---  ------                       --------------   -----  \n",
      " 0   ANO                          427628 non-null  int64  \n",
      " 1   MES                          427628 non-null  int64  \n",
      " 2   COD_MUNICIPIO                427628 non-null  int64  \n",
      " 3   NOME_MUNICIPIO               427628 non-null  object \n",
      " 4   CD_ORGAO                     427628 non-null  int64  \n",
      " 5   NOME_ORGAO                   427628 non-null  object \n",
      " 6   CD_RECEBIMENTO               427628 non-null  int64  \n",
      " 7   CD_ORGAO_ORCAMENTARIO        427628 non-null  int64  \n",
      " 8   NOME_ORGAO_ORCAMENTARIO      427628 non-null  object \n",
      " 9   CD_UNIDADE_ORCAMENTARIA      427628 non-null  int64  \n",
      " 10  NOME_UNIDADE                 427628 non-null  object \n",
      " 11  TP_UNIDADE                   427628 non-null  object \n",
      " 12  CD_FUNCAO                    427628 non-null  int64  \n",
      " 13  DS_FUNCAO                    427628 non-null  object \n",
      " 14  CD_SUBFUNCAO                 427628 non-null  int64  \n",
      " 15  DS_SUBFUNCAO                 427628 non-null  object \n",
      " 16  CD_PROGRAMA                  427628 non-null  int64  \n",
      " 17  DS_PROGRAMA                  427628 non-null  object \n",
      " 18  CD_PROJETO                   427628 non-null  int64  \n",
      " 19  NM_PROJETO                   427628 non-null  object \n",
      " 20  CD_ELEMENTO                  427628 non-null  object \n",
      " 21  CD_RECURSO                   0 non-null       float64\n",
      " 22  NM_RECURSO                   0 non-null       float64\n",
      " 23  CD_FONTE_RECURSO             427628 non-null  int64  \n",
      " 24  VL_DOTACAO_INICIAL           427628 non-null  float64\n",
      " 25  VL_ATUALIZACAO_MONETARIA     427628 non-null  float64\n",
      " 26  VL_CREDITOS_SUPLEMENTARES    427628 non-null  float64\n",
      " 27  VL_CREDITOS_ESPECIAIS        427628 non-null  float64\n",
      " 28  VL_CREDITOS_EXTRAORDINARIOS  427628 non-null  float64\n",
      " 29  VL_REDUCAO_DOTACAO           427628 non-null  float64\n",
      " 30  VL_SUPLEMENTACAO_RECURSO     427628 non-null  float64\n",
      " 31  VL_REDUCAO_RECURSO           427628 non-null  float64\n",
      " 32  VL_TRANSFERENCIA             427628 non-null  float64\n",
      " 33  VL_TRANSPOSICAO              427628 non-null  float64\n",
      " 34  VL_REMANEJAMENTO             427628 non-null  float64\n",
      " 35  VL_EMPENHADO                 427628 non-null  float64\n",
      " 36  VL_LIQUIDADO                 427628 non-null  float64\n",
      " 37  VL_PAGO                      427628 non-null  float64\n",
      " 38  VL_LIMITADO                  427628 non-null  float64\n",
      " 39  VL_RECOMPOSICAO              427628 non-null  float64\n",
      " 40  VL_PREVISAO_EXECUCAO         427628 non-null  float64\n",
      "dtypes: float64(19), int64(12), object(10)\n",
      "memory usage: 133.8+ MB\n"
     ]
    }
   ],
   "source": [
    "dados.info()"
   ]
  },
  {
   "cell_type": "code",
   "execution_count": null,
   "id": "bbb2d044-3e2c-4f8b-878b-05735c70d48b",
   "metadata": {},
   "outputs": [],
   "source": []
  },
  {
   "cell_type": "code",
   "execution_count": 15,
   "id": "5f13f4aa-a06d-49f8-ae3b-651d01a18bca",
   "metadata": {},
   "outputs": [
    {
     "data": {
      "text/plain": [
       "pandas.core.series.Series"
      ]
     },
     "execution_count": 15,
     "metadata": {},
     "output_type": "execute_result"
    }
   ],
   "source": [
    "NOME_MUNICIPIO = dados[\"NOME_MUNICIPIO\"]\n",
    "NOME_MUNICIPIO.head()\n",
    "type(NOME_MUNICIPIO)"
   ]
  },
  {
   "cell_type": "code",
   "execution_count": 16,
   "id": "4350b833-d1b9-4a85-a8ca-2715e1c8ed24",
   "metadata": {},
   "outputs": [
    {
     "data": {
      "text/plain": [
       "(427628,)"
      ]
     },
     "execution_count": 16,
     "metadata": {},
     "output_type": "execute_result"
    }
   ],
   "source": [
    "dados[\"NOME_MUNICIPIO\"].shape"
   ]
  },
  {
   "cell_type": "code",
   "execution_count": 18,
   "id": "6ef0086b-4945-4272-90cc-68a8fb7aa015",
   "metadata": {},
   "outputs": [
    {
     "data": {
      "text/html": [
       "<div>\n",
       "<style scoped>\n",
       "    .dataframe tbody tr th:only-of-type {\n",
       "        vertical-align: middle;\n",
       "    }\n",
       "\n",
       "    .dataframe tbody tr th {\n",
       "        vertical-align: top;\n",
       "    }\n",
       "\n",
       "    .dataframe thead th {\n",
       "        text-align: right;\n",
       "    }\n",
       "</style>\n",
       "<table border=\"1\" class=\"dataframe\">\n",
       "  <thead>\n",
       "    <tr style=\"text-align: right;\">\n",
       "      <th></th>\n",
       "      <th>NOME_MUNICIPIO</th>\n",
       "      <th>COD_MUNICIPIO</th>\n",
       "    </tr>\n",
       "  </thead>\n",
       "  <tbody>\n",
       "    <tr>\n",
       "      <th>0</th>\n",
       "      <td>PORTO ALEGRE</td>\n",
       "      <td>149</td>\n",
       "    </tr>\n",
       "    <tr>\n",
       "      <th>1</th>\n",
       "      <td>PORTO ALEGRE</td>\n",
       "      <td>149</td>\n",
       "    </tr>\n",
       "    <tr>\n",
       "      <th>2</th>\n",
       "      <td>PORTO ALEGRE</td>\n",
       "      <td>149</td>\n",
       "    </tr>\n",
       "    <tr>\n",
       "      <th>3</th>\n",
       "      <td>PORTO ALEGRE</td>\n",
       "      <td>149</td>\n",
       "    </tr>\n",
       "    <tr>\n",
       "      <th>4</th>\n",
       "      <td>PORTO ALEGRE</td>\n",
       "      <td>149</td>\n",
       "    </tr>\n",
       "  </tbody>\n",
       "</table>\n",
       "</div>"
      ],
      "text/plain": [
       "  NOME_MUNICIPIO  COD_MUNICIPIO\n",
       "0   PORTO ALEGRE            149\n",
       "1   PORTO ALEGRE            149\n",
       "2   PORTO ALEGRE            149\n",
       "3   PORTO ALEGRE            149\n",
       "4   PORTO ALEGRE            149"
      ]
     },
     "execution_count": 18,
     "metadata": {},
     "output_type": "execute_result"
    }
   ],
   "source": [
    "municipio_codigo = dados[[\"NOME_MUNICIPIO\", \"COD_MUNICIPIO\"]]\n",
    "municipio_codigo.head()"
   ]
  },
  {
   "cell_type": "code",
   "execution_count": null,
   "id": "240365da-50e6-4cdd-ae5a-4cae5971004b",
   "metadata": {},
   "outputs": [],
   "source": []
  }
 ],
 "metadata": {
  "kernelspec": {
   "display_name": "Python 3 (ipykernel)",
   "language": "python",
   "name": "python3"
  },
  "language_info": {
   "codemirror_mode": {
    "name": "ipython",
    "version": 3
   },
   "file_extension": ".py",
   "mimetype": "text/x-python",
   "name": "python",
   "nbconvert_exporter": "python",
   "pygments_lexer": "ipython3",
   "version": "3.10.9"
  }
 },
 "nbformat": 4,
 "nbformat_minor": 5
}
